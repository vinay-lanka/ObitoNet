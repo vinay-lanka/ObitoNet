{
 "cells": [
  {
   "cell_type": "markdown",
   "metadata": {},
   "source": [
    "# Image Tokenizer\n",
    "Notebook to get token embeddings from different types of Vision Transformers"
   ]
  },
  {
   "cell_type": "code",
   "execution_count": 36,
   "metadata": {},
   "outputs": [],
   "source": [
    "import numpy as np\n",
    "import matplotlib.pyplot as plt\n",
    "import cv2\n",
    "from PIL import Image"
   ]
  },
  {
   "cell_type": "code",
   "execution_count": 37,
   "metadata": {},
   "outputs": [
    {
     "name": "stdout",
     "output_type": "stream",
     "text": [
      "Using device: cuda\n"
     ]
    }
   ],
   "source": [
    "import torch\n",
    "\n",
    "# Check if a GPU is available and if not use the CPU\n",
    "device = torch.device('cuda' if torch.cuda.is_available() else 'cpu')\n",
    "\n",
    "# Print the device\n",
    "print('Using device:', device)"
   ]
  },
  {
   "cell_type": "code",
   "execution_count": 38,
   "metadata": {},
   "outputs": [],
   "source": [
    "import cv2\n",
    "from matplotlib import pyplot as plt\n",
    "\n",
    "# Load the image\n",
    "img = cv2.imread('/home/apoorv/Documents/CMSC848K/ObitoNet/Dataset/Barn_data/Barn_images/000001.jpg')\n",
    "\n",
    "# Resize the image\n",
    "img = cv2.resize(img, (256, 256))\n",
    "\n",
    "if img is None:\n",
    "    print('Could not open or find the image')\n",
    "else:\n",
    "    # Show the image with cv2\n",
    "    cv2.imshow('image', img)\n",
    "    cv2.waitKey(0)\n",
    "    cv2.destroyAllWindows()\n"
   ]
  },
  {
   "cell_type": "markdown",
   "metadata": {},
   "source": [
    "## Vision Transformer (ViT)\n",
    "Model used: https://huggingface.co/docs/transformers/en/model_doc/vit"
   ]
  },
  {
   "cell_type": "code",
   "execution_count": 39,
   "metadata": {},
   "outputs": [
    {
     "data": {
      "text/plain": [
       "[1, 197, 768]"
      ]
     },
     "execution_count": 39,
     "metadata": {},
     "output_type": "execute_result"
    }
   ],
   "source": [
    "from transformers import AutoImageProcessor, ViTModel\n",
    "import torch\n",
    "from datasets import load_dataset\n",
    "\n",
    "# Standard data\n",
    "# dataset = load_dataset(\"huggingface/cats-image\", trust_remote_code=True)\n",
    "# image = dataset[\"test\"][\"image\"][0]\n",
    "\n",
    "# Custom data\n",
    "image = img\n",
    "\n",
    "image_processor = AutoImageProcessor.from_pretrained(\"google/vit-base-patch16-224-in21k\", use_fast=True)\n",
    "model = ViTModel.from_pretrained(\"google/vit-base-patch16-224-in21k\")\n",
    "\n",
    "inputs = image_processor(image, return_tensors=\"pt\")\n",
    "\n",
    "with torch.no_grad():\n",
    "    outputs = model(**inputs)\n",
    "\n",
    "last_hidden_states = outputs.last_hidden_state\n",
    "list(last_hidden_states.shape)"
   ]
  },
  {
   "cell_type": "markdown",
   "metadata": {},
   "source": [
    "Extract image tokens and CLS token"
   ]
  },
  {
   "cell_type": "code",
   "execution_count": 40,
   "metadata": {},
   "outputs": [
    {
     "name": "stdout",
     "output_type": "stream",
     "text": [
      "torch.Size([1, 768])\n",
      "torch.Size([1, 196, 768])\n"
     ]
    }
   ],
   "source": [
    "# CLS token \n",
    "cls_token = last_hidden_states[:, 0, :]\n",
    "\n",
    "# Print the shape of the CLS token\n",
    "print(cls_token.shape)\n",
    "\n",
    "# Image tokens\n",
    "img_tokens = last_hidden_states[:, 1:, :]\n",
    "\n",
    "# Print the shape of the image tokens\n",
    "print(img_tokens.shape)"
   ]
  },
  {
   "cell_type": "code",
   "execution_count": 41,
   "metadata": {},
   "outputs": [
    {
     "name": "stdout",
     "output_type": "stream",
     "text": [
      "torch.Size([768])\n"
     ]
    }
   ],
   "source": [
    "i = 3\n",
    "\n",
    "# Print the ith image token\n",
    "# print(img_tokens[0][i])\n",
    "\n",
    "# Print size of the image token\n",
    "print(img_tokens[0][i].shape)"
   ]
  },
  {
   "cell_type": "code",
   "execution_count": null,
   "metadata": {},
   "outputs": [],
   "source": []
  },
  {
   "cell_type": "markdown",
   "metadata": {},
   "source": [
    "## ViT MAE\n",
    "\n",
    "Model used: https://huggingface.co/docs/transformers/en/model_doc/vit_mae"
   ]
  },
  {
   "cell_type": "code",
   "execution_count": 42,
   "metadata": {},
   "outputs": [
    {
     "data": {
      "text/plain": [
       "[1, 50, 768]"
      ]
     },
     "execution_count": 42,
     "metadata": {},
     "output_type": "execute_result"
    }
   ],
   "source": [
    "from transformers import AutoImageProcessor, ViTMAEModel\n",
    "from PIL import Image\n",
    "import requests\n",
    "\n",
    "# Standard data\n",
    "# url = \"http://images.cocodataset.org/val2017/000000039769.jpg\"\n",
    "# image = Image.open(requests.get(url, stream=True).raw)\n",
    "\n",
    "# Custom data\n",
    "image = img\n",
    "\n",
    "image_processor = AutoImageProcessor.from_pretrained(\"facebook/vit-mae-base\", use_fast=True)\n",
    "model = ViTMAEModel.from_pretrained(\"facebook/vit-mae-base\")\n",
    "\n",
    "inputs = image_processor(images=image, return_tensors=\"pt\")\n",
    "outputs = model(**inputs)\n",
    "last_hidden_states = outputs.last_hidden_state\n",
    "list(last_hidden_states.shape)"
   ]
  },
  {
   "cell_type": "markdown",
   "metadata": {},
   "source": [
    "Extract image tokens and CLS token"
   ]
  },
  {
   "cell_type": "code",
   "execution_count": 43,
   "metadata": {},
   "outputs": [
    {
     "name": "stdout",
     "output_type": "stream",
     "text": [
      "torch.Size([1, 768])\n",
      "torch.Size([1, 49, 768])\n"
     ]
    }
   ],
   "source": [
    "# CLS token \n",
    "cls_token = last_hidden_states[:, 0, :]\n",
    "\n",
    "# Print the shape of the CLS token\n",
    "print(cls_token.shape)\n",
    "\n",
    "# Image tokens\n",
    "img_tokens = last_hidden_states[:, 1:, :]\n",
    "\n",
    "# Print the shape of the image tokens\n",
    "print(img_tokens.shape)"
   ]
  },
  {
   "cell_type": "code",
   "execution_count": 44,
   "metadata": {},
   "outputs": [
    {
     "name": "stdout",
     "output_type": "stream",
     "text": [
      "tensor([-8.9910e-02, -5.9313e-02,  3.4205e-01,  1.9082e-01, -1.2683e+00,\n",
      "        -4.9870e-01, -1.9346e-01,  1.3152e-01, -6.9172e-02,  3.1076e-01,\n",
      "         7.0628e-02, -6.1973e-02, -6.9237e-01,  3.8554e-02,  1.0813e-01,\n",
      "         2.1347e-04,  1.3486e-01, -1.0883e-01, -1.7690e-01,  1.7412e-01,\n",
      "         1.0534e-01, -1.2633e-01, -2.5232e-02, -3.7265e-01, -1.8562e-01,\n",
      "         3.6886e-01, -1.6058e-01,  3.0628e-01, -1.4111e-01,  7.5429e-02,\n",
      "         5.1949e-02,  3.2603e-01, -8.3353e-01, -6.2744e-02, -2.2416e-01,\n",
      "         2.7130e-01, -6.7815e-02,  4.9448e-02, -1.4388e-01, -3.2875e-02,\n",
      "        -2.5440e-02, -3.9405e-01, -4.8925e-01, -1.4608e-01,  4.5412e-01,\n",
      "        -6.3926e-01, -5.6038e-02, -9.1604e-02,  7.5471e-03, -5.6831e-03,\n",
      "        -1.7545e-01,  1.5103e-01, -5.7806e-02,  7.1675e-03,  3.1573e-01,\n",
      "        -4.9434e-02,  1.7498e-01, -4.2646e-02,  2.3797e-01,  3.4052e-01,\n",
      "        -3.2057e-02,  1.5457e-01,  4.2712e-02,  5.5651e-01, -2.5422e-01,\n",
      "         1.3632e-01, -8.5133e-02,  3.8885e-02, -4.1032e-02,  1.5097e-01,\n",
      "        -1.6016e-01, -4.6316e-02, -9.5364e-02, -1.9951e-01,  2.4619e-01,\n",
      "        -9.5486e-02, -6.5476e-02,  3.1750e-01,  2.9415e-01, -3.0788e-01,\n",
      "        -1.4301e-01,  1.1512e-01,  5.5665e-02,  2.6153e-01,  7.0336e-03,\n",
      "         4.5736e-01,  5.0029e-02, -1.4162e-01, -2.5954e-03, -1.7955e-01,\n",
      "        -1.0212e-02, -5.0982e-02, -1.2996e-01,  3.5921e-02,  3.4775e-01,\n",
      "        -2.4907e-02,  1.1738e-01,  9.7816e-01,  9.7078e-02,  1.6507e-01,\n",
      "         4.4172e-01, -8.1299e-02,  2.4090e-02,  5.4386e+00, -9.4518e-02,\n",
      "        -1.4637e-01,  3.5320e-01, -1.5592e-01, -1.5587e-01, -1.2427e-01,\n",
      "         1.3578e-01, -9.7376e-02, -6.2209e-03,  8.4596e-02,  7.0286e-03,\n",
      "         3.3576e-01,  4.4158e-01,  1.6190e-01,  3.3418e-01, -1.1436e-01,\n",
      "         4.0107e-01,  1.2842e-01, -3.3804e-01,  1.9871e-01,  1.6176e-02,\n",
      "        -1.3941e-01,  2.1938e-01, -1.3200e-02, -4.1811e-02, -5.1307e-02,\n",
      "        -5.3421e-02, -4.0527e-02, -2.3886e-01,  3.4287e-01, -3.3762e-02,\n",
      "         3.2087e-01,  2.1276e-01,  6.1404e-01,  5.1534e-03,  2.9213e-01,\n",
      "        -2.4336e-01, -1.1237e-02,  2.0660e-02,  1.3342e-01, -1.2972e-01,\n",
      "         2.7698e-01, -3.9770e-01, -1.0277e-01, -2.3187e-01, -3.2835e-02,\n",
      "         1.8327e-01,  1.4055e-01,  1.0751e-01,  4.8836e-01, -1.9222e-01,\n",
      "         2.4952e-01,  4.2155e-02, -1.6276e-01, -2.1197e-01,  1.3859e-01,\n",
      "         5.1592e-02, -2.8874e-01,  2.0083e-01, -1.8429e-01,  8.7686e-02,\n",
      "         2.3381e-01,  1.0392e-02,  1.7579e-01, -2.1813e-02,  4.6840e-03,\n",
      "        -7.0880e-02, -2.3610e-01,  1.2351e-01, -1.5449e-01, -3.4553e-02,\n",
      "         6.9045e-02,  1.8269e-02,  1.6357e-01,  1.6507e-01,  1.3002e-01,\n",
      "         8.2462e-03, -7.2798e-02,  2.0656e-01, -6.7843e-01, -2.3486e-02,\n",
      "        -1.2344e-01,  1.5542e-02, -2.1924e-01,  7.8784e-02, -1.7235e-01,\n",
      "         6.8006e-02,  7.3918e-02,  1.1554e+00, -3.5456e-02, -7.9719e-01,\n",
      "        -1.1109e-01,  3.8580e-01, -3.5056e-02, -1.3239e-01, -2.4093e-01,\n",
      "        -1.7371e-01, -3.5818e-01, -8.8581e-01, -4.8763e-01,  7.1730e-01,\n",
      "        -6.8000e-01,  1.7229e-01, -3.5299e-02,  2.8704e-01,  4.2994e-01,\n",
      "        -9.4569e-02,  4.3437e-01, -2.7858e-01, -2.7776e-03,  6.4592e-01,\n",
      "        -6.5872e-02,  1.5836e-01, -1.6665e-01,  4.0133e-01,  6.5751e-01,\n",
      "         1.4180e-01,  1.8232e-01, -5.4205e-01, -3.8519e-01,  3.5056e-02,\n",
      "        -1.5332e-01,  1.1794e-01,  1.0408e-01, -1.1189e-01, -2.4546e-01,\n",
      "        -3.0866e-01,  9.0665e-02, -1.6176e-01, -1.1366e-01, -2.0285e-01,\n",
      "        -2.8941e-01,  7.5833e-02, -2.7933e-01,  2.6661e-02, -2.1787e-01,\n",
      "         2.8445e-01,  7.3891e-02, -2.6993e-01, -1.5005e-01, -7.8073e-02,\n",
      "        -3.7580e-02,  2.0074e-01, -2.0389e-01,  3.3071e-02,  5.5766e-01,\n",
      "         2.0631e-01, -2.7727e-02,  3.7580e-01,  2.0686e-01,  1.0447e-01,\n",
      "         1.3518e-01, -3.1990e-02, -2.9909e-01, -2.0725e-01,  4.4150e-01,\n",
      "        -3.3068e+00,  1.0408e-01,  1.8995e-01,  5.1111e-01,  7.0341e-02,\n",
      "         5.3681e-02, -2.0914e-01, -2.0569e-01,  3.4372e-01,  1.3427e-01,\n",
      "        -9.3808e-02, -3.5566e-01,  1.8771e-02, -2.3448e-01, -6.1003e-01,\n",
      "         1.6647e-01, -1.1600e-01, -9.2110e-02,  2.5868e-02,  3.1828e-01,\n",
      "        -5.0813e-02,  3.0587e-01,  1.5700e-01, -1.6890e-01, -8.8503e-02,\n",
      "         3.7752e-02,  5.4624e-01, -6.1563e-01,  1.7738e-01,  5.8495e-02,\n",
      "        -6.1132e-02, -2.3021e-01, -4.2708e-02, -2.2794e-02,  1.4636e-02,\n",
      "        -7.9159e-01, -3.8071e-02, -2.0583e+00,  8.3449e-02, -2.9083e-02,\n",
      "        -1.2554e-01,  2.4145e-03, -6.7506e-02,  1.6264e-01, -1.4850e+00,\n",
      "        -1.2717e-01,  2.4982e-01,  5.7498e-02,  2.5736e-01, -1.1350e-01,\n",
      "         2.0930e-01,  5.8170e-02, -5.8272e-02,  7.6876e-02,  4.1075e-02,\n",
      "         1.2104e-01,  1.0446e-01,  5.5820e-02,  1.3227e-01,  9.1621e-02,\n",
      "        -1.4352e-01,  3.1991e-01, -3.4447e-02,  3.5316e-01,  1.5808e-01,\n",
      "        -2.2987e-01, -3.3726e-01,  5.1666e-02,  2.7909e-01, -1.2417e-01,\n",
      "        -2.7972e-01, -3.4812e+00, -2.9655e-01,  1.4657e-01, -2.1766e-01,\n",
      "         1.8548e-01, -1.1534e-01,  1.1801e-01, -8.4088e-02, -2.4715e-01,\n",
      "        -1.8469e-01,  9.7523e-02,  8.8071e-02,  2.1128e-01, -8.6358e-02,\n",
      "        -2.4409e-02,  5.2280e-01,  2.5517e-02, -2.4100e-01, -1.1962e-01,\n",
      "         1.5083e-01, -3.7087e-01,  1.0851e-01, -5.2237e-03,  1.6579e-01,\n",
      "         4.6356e-01,  3.0762e-01,  1.5121e-01,  1.2126e-01,  1.5378e-01,\n",
      "         1.3136e-01,  4.0590e-01,  8.8687e-02, -1.0768e-01, -2.6154e-01,\n",
      "         1.0418e-01,  9.3963e-02,  1.4663e-02, -2.3698e-01, -8.6589e-03,\n",
      "         1.6292e-01, -2.6179e-01, -5.1449e-02,  2.1840e-01, -2.7062e-01,\n",
      "        -2.7218e-03, -1.3385e-01, -3.0476e-04,  8.8059e-02, -5.5483e-01,\n",
      "         1.4609e-03, -4.1919e-03, -3.3336e-01,  9.0771e-01, -1.3575e-01,\n",
      "        -1.3770e-01,  1.6955e-01,  6.3266e-01,  2.5282e-02, -2.9705e-01,\n",
      "         1.9438e-01,  1.3101e-01,  3.8986e-02,  4.3661e-02, -2.8085e-01,\n",
      "         1.6885e-01, -1.8488e-02,  8.9202e-02,  7.1082e-01, -1.4826e-01,\n",
      "        -1.5405e-01, -3.6018e-01,  2.5161e-01, -2.0541e-01,  3.2311e-01,\n",
      "         5.7739e-02,  1.4001e-01, -9.1059e-02, -1.0524e-01, -2.0029e-01,\n",
      "         3.5528e-02, -1.9515e-01, -6.0651e-02, -2.1098e-01,  1.0412e-01,\n",
      "        -5.1956e-03,  2.8900e-01,  6.1789e-01, -7.3766e-02,  1.3725e-01,\n",
      "         1.1727e-01, -1.1411e-01,  4.2693e-03,  1.9849e-01, -1.3272e-01,\n",
      "         4.1748e-03, -3.0923e-01, -2.6444e-01,  8.9874e-02,  8.5997e-03,\n",
      "         4.4900e-02, -2.3586e-01, -2.9127e-02, -7.3321e-02,  7.8052e-02,\n",
      "        -1.5331e-01, -7.5791e-02,  5.5073e-02, -3.1953e-01, -1.0766e-01,\n",
      "        -3.2215e-01, -1.0971e-01, -2.3971e-01, -1.2534e-01, -1.5552e-02,\n",
      "        -7.9655e-02, -4.0967e-01,  7.5596e-02, -2.8459e-01,  1.6430e-01,\n",
      "         2.2837e-01,  4.6855e-02, -4.8767e-02, -2.7034e-01,  4.0737e-02,\n",
      "         1.7535e-01,  6.7061e-03, -6.5985e-01,  2.7809e-01, -3.0005e-01,\n",
      "         6.8527e-02,  5.3409e-03, -4.1010e-02, -1.6843e-02,  4.7955e-01,\n",
      "        -1.7884e-01, -8.9097e-02,  2.1762e-01, -2.2942e-01, -2.2360e-01,\n",
      "        -1.9100e-01,  7.6540e-02,  1.9084e-01,  1.6897e-01, -1.5857e-01,\n",
      "         2.3499e-01, -1.5037e-01, -1.1669e-01,  1.2391e-01,  1.1278e+00,\n",
      "         1.8637e-01, -7.8378e-02,  1.2309e-01, -8.2130e-02,  1.2826e-01,\n",
      "         1.3356e+00,  1.8328e-01,  5.4500e-01, -8.1257e-02, -8.2469e-01,\n",
      "        -1.8034e-01,  1.4989e-01,  7.3434e-02,  1.9934e-02,  2.9951e-01,\n",
      "         6.8224e-02, -3.5208e-02,  4.8583e-02,  2.3753e-02, -1.9344e-01,\n",
      "         1.0743e-01, -3.5060e-01,  2.1209e-02, -9.1862e-02,  1.5824e-01,\n",
      "         5.5031e-02,  6.1225e-01, -3.1618e-03,  1.6411e-01,  4.0903e-01,\n",
      "        -3.4685e-01, -5.1635e-03,  3.7242e-01, -1.0472e-01, -8.1902e-02,\n",
      "        -7.7061e-02,  2.7714e-01, -5.7258e-02,  3.0709e-01, -3.3194e-02,\n",
      "         2.0334e-01, -3.6959e-01, -1.5023e-01,  5.6630e-01, -2.5667e-01,\n",
      "         1.7892e-01, -2.1452e-01,  1.6750e-01,  2.2340e-02, -5.6061e-01,\n",
      "         2.6539e-02,  6.2599e-02, -3.0096e-02, -1.9921e-01,  1.1796e-01,\n",
      "        -1.7169e-01,  1.1549e-01,  9.9354e-03,  3.7383e-01, -2.7193e-01,\n",
      "        -1.2119e-01,  1.2445e-01, -5.8002e-02, -5.0320e-01, -5.7791e-02,\n",
      "         9.7459e-02, -9.3738e-02,  1.2333e-01, -1.5095e-01,  2.8848e-01,\n",
      "        -2.0214e-01, -5.5630e-02, -1.5111e-01, -3.7639e-01, -2.4730e-02,\n",
      "        -3.4457e-02, -7.9362e-02, -2.8000e-02,  2.5039e+00,  1.9023e-01,\n",
      "        -1.0898e-02, -1.4863e-01,  1.0609e-01,  3.7418e-01, -1.1323e-01,\n",
      "         3.1781e-01, -1.4210e-01,  1.8777e-02, -5.2085e-02, -6.4947e-02,\n",
      "        -2.9117e-01, -2.4247e-01, -1.1901e-01, -4.8504e-02,  1.4760e-01,\n",
      "         8.1603e-02, -7.0512e-01, -2.9303e-01, -7.0601e-01,  6.0987e-02,\n",
      "        -1.6314e+00,  1.9224e-02, -1.0035e-01, -2.4688e-01,  5.5722e-01,\n",
      "         4.0212e-01,  5.2556e-01,  4.1952e-01,  1.8404e-01, -5.0012e-02,\n",
      "         1.7445e-01,  2.6413e-01, -1.0700e-01,  2.0676e-01,  1.6249e-01,\n",
      "         1.4288e-01, -1.3613e-01,  1.1339e-01,  8.8906e-02, -2.0471e-01,\n",
      "        -1.2753e-01, -1.3704e-02,  4.2490e-02,  1.7302e-01,  2.3373e-01,\n",
      "        -2.0346e-01, -1.4662e-01, -9.3535e-02,  1.4488e-01, -1.3541e-01,\n",
      "        -2.0945e-02,  3.2430e-01,  3.5276e-01,  4.2840e-03, -2.1834e-02,\n",
      "        -3.2524e-02,  1.4147e-01, -2.4318e-02,  2.2514e-01, -2.6952e-01,\n",
      "        -2.2373e-01,  1.2074e-01,  7.4442e-02,  4.8862e-01, -1.8582e-01,\n",
      "        -9.2691e-02,  1.3467e-01,  5.9245e-02, -2.3482e-01,  4.3685e-02,\n",
      "         4.4626e-02,  1.2625e-01, -2.7924e-01, -1.1336e-01, -4.2877e-02,\n",
      "         1.6089e-01, -2.1780e-02, -3.0784e-01,  1.0397e-01, -1.4978e-02,\n",
      "         2.6870e-02,  2.9698e-02, -3.2005e-01, -2.8672e-01,  1.0578e+00,\n",
      "         2.1272e-01,  2.9156e-01, -2.9200e-01, -1.4582e-01, -1.4099e-01,\n",
      "        -2.5284e-01,  1.2204e-01, -1.6629e-01,  8.9817e-02,  1.8186e-01,\n",
      "         2.2881e-01, -3.5041e-02,  1.5909e-02,  9.4622e-02,  7.9053e-02,\n",
      "         2.4896e-01,  2.9717e-01,  2.7013e-01, -3.4941e-02,  3.1433e-01,\n",
      "        -1.9269e-01, -1.2815e-01, -2.8731e-01,  1.6163e-01, -2.3051e-01,\n",
      "        -3.2801e-01,  2.3062e-01,  2.7741e-02, -1.9470e-01, -8.5947e-01,\n",
      "         1.4873e-01, -3.4543e-01,  1.1725e-01, -2.3448e-01,  1.3805e-01,\n",
      "        -2.0536e-01, -9.6369e-02, -2.7637e-01,  1.8908e-01, -2.4987e-01,\n",
      "         4.0767e-02, -1.3166e-01, -1.9631e+00,  2.7539e-01, -2.3183e-01,\n",
      "        -6.0859e-01,  6.8926e-01, -4.3079e-01,  8.6956e-02,  1.6315e-01,\n",
      "        -3.0974e-01, -1.5456e-01,  9.3962e-02, -1.4281e-01, -2.2503e-01,\n",
      "         1.9953e-02,  2.5695e-01, -2.0345e-01,  2.1515e-01,  7.8729e-02,\n",
      "        -7.1484e-02, -1.8287e-01, -1.2940e-02, -3.2806e-02, -3.5034e-01,\n",
      "         2.3816e-02, -2.0052e-01,  2.7172e-01,  6.1218e-01,  2.8838e-01,\n",
      "         1.5118e-01,  3.0504e-02, -1.9067e-01,  4.2844e-02, -6.1567e-02,\n",
      "         6.7005e-03,  4.2052e-02,  6.2301e-03,  5.2210e-01, -5.8965e-02,\n",
      "        -1.5236e-01, -6.1459e-03, -3.5470e-01, -1.1679e-02, -1.9150e-01,\n",
      "        -8.1197e-02, -2.4205e-02,  1.3042e-02,  6.2415e-02,  1.6819e-01,\n",
      "        -1.4971e-01, -1.8866e-01, -1.9370e-01,  1.9008e-01, -2.6420e-01,\n",
      "        -5.2303e-02,  1.3596e-02,  1.9863e-01,  1.8993e-01,  2.5833e-01,\n",
      "         2.6121e-01, -1.7562e-02, -1.3579e-01,  7.4263e-01,  7.9564e-02,\n",
      "        -1.5457e-01, -1.7013e-01,  5.3211e-02,  1.0827e+00,  1.3266e-01,\n",
      "        -1.7109e-01, -1.7282e-01,  9.2945e-02, -1.6419e-01, -3.4218e-02,\n",
      "         1.2964e-03,  6.5141e-02, -3.7254e-01,  1.7212e-01,  8.9566e-02,\n",
      "        -7.1749e-02, -3.2892e-02,  6.3813e-01], grad_fn=<SelectBackward0>)\n",
      "torch.Size([768])\n"
     ]
    }
   ],
   "source": [
    "i = 3\n",
    "\n",
    "# Print the ith image token\n",
    "print(img_tokens[0][i])\n",
    "\n",
    "# Print size of the image token\n",
    "print(img_tokens[0][i].shape)"
   ]
  },
  {
   "cell_type": "markdown",
   "metadata": {},
   "source": [
    "## UperNet\n",
    "\n",
    "Model used: https://huggingface.co/docs/transformers/en/model_doc/upernet#upernet"
   ]
  },
  {
   "cell_type": "code",
   "execution_count": 45,
   "metadata": {},
   "outputs": [
    {
     "name": "stdout",
     "output_type": "stream",
     "text": [
      "[1, 96, 128, 128]\n"
     ]
    }
   ],
   "source": [
    "from transformers import AutoImageProcessor, UperNetForSemanticSegmentation\n",
    "from PIL import Image\n",
    "from huggingface_hub import hf_hub_download\n",
    "\n",
    "image_processor = AutoImageProcessor.from_pretrained(\"openmmlab/upernet-convnext-tiny\")\n",
    "model = UperNetForSemanticSegmentation.from_pretrained(\"openmmlab/upernet-convnext-tiny\", output_hidden_states=True)\n",
    "\n",
    "filepath = hf_hub_download(\n",
    "    repo_id=\"hf-internal-testing/fixtures_ade20k\", filename=\"ADE_val_00000001.jpg\", repo_type=\"dataset\"\n",
    ")\n",
    "image = Image.open(filepath).convert(\"RGB\")\n",
    "\n",
    "inputs = image_processor(images=image, return_tensors=\"pt\")\n",
    "\n",
    "outputs = model(**inputs)\n",
    "\n",
    "hidden_states = outputs.hidden_states\n",
    "\n",
    "hidden_states = hidden_states[0]\n",
    "\n",
    "# Print the shape of the hidden states\n",
    "print(list(hidden_states.shape))"
   ]
  },
  {
   "cell_type": "code",
   "execution_count": 46,
   "metadata": {},
   "outputs": [
    {
     "data": {
      "text/plain": [
       "[1, 150, 512, 512]"
      ]
     },
     "execution_count": 46,
     "metadata": {},
     "output_type": "execute_result"
    }
   ],
   "source": [
    "logits = outputs.logits  # shape (batch_size, num_labels, height, width)\n",
    "list(logits.shape)"
   ]
  },
  {
   "cell_type": "code",
   "execution_count": null,
   "metadata": {},
   "outputs": [],
   "source": []
  }
 ],
 "metadata": {
  "kernelspec": {
   "display_name": "base",
   "language": "python",
   "name": "python3"
  },
  "language_info": {
   "codemirror_mode": {
    "name": "ipython",
    "version": 3
   },
   "file_extension": ".py",
   "mimetype": "text/x-python",
   "name": "python",
   "nbconvert_exporter": "python",
   "pygments_lexer": "ipython3",
   "version": "3.12.2"
  }
 },
 "nbformat": 4,
 "nbformat_minor": 2
}
